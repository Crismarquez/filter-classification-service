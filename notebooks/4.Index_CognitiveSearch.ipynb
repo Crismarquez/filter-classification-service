{
 "cells": [
  {
   "cell_type": "markdown",
   "id": "650131da",
   "metadata": {},
   "source": [
    "## Setup"
   ]
  },
  {
   "cell_type": "code",
   "execution_count": 1,
   "id": "a4ffa4a1",
   "metadata": {},
   "outputs": [],
   "source": [
    "from typing import List, Optional, Dict\n",
    "from pathlib import Path\n",
    "import os\n",
    "import io\n",
    "import re\n",
    "import time\n",
    "import json\n",
    "import hashlib\n",
    "import uuid\n",
    "\n",
    "\n",
    "import openai\n",
    "from langchain_openai import OpenAIEmbeddings\n",
    "from azure.core.credentials import AzureKeyCredential\n",
    "from azure.search.documents import SearchClient  \n",
    "from azure.search.documents.indexes import SearchIndexClient  \n",
    "from azure.search.documents.indexes.models import (  \n",
    "    SearchIndex,  \n",
    "    SearchField,  \n",
    "    SearchFieldDataType,  \n",
    "    SimpleField,  \n",
    "    SearchableField,  \n",
    "    SearchIndex,  \n",
    "    SemanticConfiguration,  \n",
    "    SemanticPrioritizedFields,  \n",
    "    SemanticField,  \n",
    "    SearchField,  \n",
    "    SemanticSearch,\n",
    "    VectorSearch,  \n",
    "    HnswAlgorithmConfiguration,\n",
    "    VectorSearchProfile\n",
    ")\n",
    "from tenacity import retry, wait_random_exponential, stop_after_attempt\n",
    "\n",
    "import pandas as pd\n",
    "from dotenv import dotenv_values"
   ]
  },
  {
   "cell_type": "code",
   "execution_count": 8,
   "id": "193dca9b",
   "metadata": {},
   "outputs": [
    {
     "name": "stdout",
     "output_type": "stream",
     "text": [
      "c:\\Users\\CristianDavidMarquez\\Documents\\research\\demo_classification\\backend_demo\n"
     ]
    }
   ],
   "source": [
    "BASE_DIR = Path.cwd().parent\n",
    "DATA_DIR = BASE_DIR / \"data\"\n",
    "TRAIN_DIR = DATA_DIR / \"train\"\n",
    "\n",
    "\n",
    "ENV_VARIABLES = {\n",
    "    **dotenv_values(str(BASE_DIR / \".env\")),  # load environment variables from .env file\n",
    "    #**os.environ,  # override loaded values with environment variables\n",
    "}\n",
    "\n",
    "print(BASE_DIR)"
   ]
  },
  {
   "cell_type": "code",
   "execution_count": 4,
   "id": "b9eb1597",
   "metadata": {},
   "outputs": [
    {
     "data": {
      "text/plain": [
       "'cscontratos'"
      ]
     },
     "execution_count": 4,
     "metadata": {},
     "output_type": "execute_result"
    }
   ],
   "source": [
    "ENV_VARIABLES[\"AZURE_SEARCH_SERVICE\"]"
   ]
  },
  {
   "cell_type": "markdown",
   "id": "3bf17b98",
   "metadata": {},
   "source": [
    "## Utils"
   ]
  },
  {
   "cell_type": "code",
   "execution_count": 5,
   "id": "5a6602ae",
   "metadata": {},
   "outputs": [],
   "source": [
    "@retry(wait=wait_random_exponential(min=1, max=20), stop=stop_after_attempt(6))\n",
    "# Function to generate embeddings for title and content fields, also used for query embeddings\n",
    "def generate_embeddings(text):\n",
    "    embedding_model = OpenAIEmbeddings(\n",
    "        openai_api_key=ENV_VARIABLES[\"OPENAI_KEY\"],\n",
    "        model=\"text-embedding-3-small\",\n",
    "    )\n",
    "    \n",
    "    embeddins = embedding_model.embed_documents([text])\n",
    "    return embeddins[0]\n",
    "\n",
    "import hashlib\n",
    "\n",
    "def create_hash(texto):\n",
    "    # Crea un objeto de hash SHA-256\n",
    "    sha256 = hashlib.sha256()\n",
    "    \n",
    "    # Actualiza el objeto de hash con la cadena de entrada codificada en bytes\n",
    "    sha256.update(texto.encode('utf-8'))\n",
    "    \n",
    "    # Obtiene el hash en formato hexadecimal\n",
    "    hash_resultado = sha256.hexdigest()\n",
    "    \n",
    "    return hash_resultado\n",
    "\n",
    "def create_id():\n",
    "    # uuid id\n",
    "    return str(uuid.uuid4())\n",
    "\n",
    "def validate_and_convert_documents(documents):\n",
    "    for i, doc in enumerate(documents):\n",
    "        for key, value in doc.items():\n",
    "            if isinstance(value, int):\n",
    "                print(f\"Converting document {i} key {key} value {value} to string\")\n",
    "                doc[key] = str(value)\n",
    "    return documents"
   ]
  },
  {
   "cell_type": "code",
   "execution_count": 6,
   "id": "faeabcb9",
   "metadata": {},
   "outputs": [],
   "source": [
    "\n",
    "class IndexManager:\n",
    "    def __init__(self, search_service:str, search_key:str) -> None:\n",
    "        self.search_key = search_key\n",
    "        self.search_service = search_service\n",
    "        self.index_client = SearchIndexClient(endpoint=f\"https://{self.search_service}.search.windows.net/\",\n",
    "                                        credential=AzureKeyCredential(self.search_key))\n",
    "\n",
    "    def create_index(\n",
    "            self, \n",
    "            index_name: str, \n",
    "            fields,\n",
    "            vector_search,\n",
    "            semantic_search: Optional[SemanticConfiguration] = None\n",
    "            ):\n",
    "        print(f\"Creating {index_name} search index\")\n",
    "        \n",
    "        # Create the search index with the semantic settings\n",
    "        index = SearchIndex(name=index_name, fields=fields,\n",
    "                            vector_search=vector_search,  semantic_search=semantic_search)\n",
    "        result = self.index_client.create_or_update_index(index)\n",
    "        print(f' {result.name} created')\n",
    "        return result\n",
    "\n",
    "\n",
    "    def upload_documents(self, index_name: str, documents: List[Dict], batch_size: int = 1000):\n",
    "        # Create a SearchClient object using the provided endpoint, index name, and credential\n",
    "        search_client = SearchClient(\n",
    "            endpoint=f\"https://{self.search_service}.search.windows.net/\",\n",
    "            index_name=index_name,\n",
    "            credential=AzureKeyCredential(self.search_key)\n",
    "        )\n",
    "\n",
    "        if not documents:\n",
    "            print(\"No documents to upload\")\n",
    "            return\n",
    "        \n",
    "        results = []\n",
    "        if len(documents) > batch_size:\n",
    "            print(\"Too many documents to upload, split into smaller batches\")\n",
    "            for i in range(0, len(documents), batch_size):\n",
    "                print(\"*\"*16)\n",
    "                print(f\"Uploading documents {i} to {i+batch_size}\")\n",
    "                try:\n",
    "                    result = search_client.upload_documents(documents=documents[i:i+batch_size])\n",
    "                    # Count the number of succeeded uploads\n",
    "                    succeeded = sum([1 for r in result if r.succeeded])\n",
    "\n",
    "                    # Log the number of sections indexed and the number of successful uploads\n",
    "                    print(f\"\\tIndexed {len(result)} sections, {succeeded} succeeded\")\n",
    "                    results.append(result)\n",
    "                except Exception as e:\n",
    "                    print(f\"Error uploading documents: {e}\")\n",
    "            return results\n",
    "            \n",
    "        else:\n",
    "            # Upload the documents to the search index and get the results\n",
    "            results = search_client.upload_documents(documents=documents)\n",
    "\n",
    "            # Count the number of succeeded uploads\n",
    "            succeeded = sum([1 for r in results if r.succeeded])\n",
    "\n",
    "            # Log the number of sections indexed and the number of successful uploads\n",
    "            print(f\"\\tIndexed {len(results)} sections, {succeeded} succeeded\")\n",
    "\n",
    "            # Return the results\n",
    "            return results"
   ]
  },
  {
   "cell_type": "markdown",
   "id": "46bd5fe4",
   "metadata": {},
   "source": [
    "## Config Structure"
   ]
  },
  {
   "cell_type": "code",
   "execution_count": 14,
   "id": "4725043a",
   "metadata": {},
   "outputs": [],
   "source": [
    "fields = [\n",
    "        SimpleField(name=\"id\", type=SearchFieldDataType.String, key=True),\n",
    "        SimpleField(name=\"label\", type=SearchFieldDataType.String, filterable=True),\n",
    "        SearchableField(name=\"message\", type=SearchFieldDataType.String),\n",
    "        SimpleField(name=\"source\", type=SearchFieldDataType.String, filterable=True),\n",
    "\n",
    "        SearchField(\n",
    "            name=\"main_vector\",\n",
    "            type=SearchFieldDataType.Collection(SearchFieldDataType.Single),\n",
    "            searchable=True,\n",
    "            vector_search_dimensions=1536,\n",
    "            vector_search_profile_name=\"my-vector-config\",\n",
    "        ),\n",
    "    ]\n",
    "\n",
    "vector_search = VectorSearch(\n",
    "        profiles=[VectorSearchProfile(name=\"my-vector-config\", algorithm_configuration_name=\"my-algorithms-config\")],\n",
    "        algorithms=[HnswAlgorithmConfiguration(name=\"my-algorithms-config\")],\n",
    "    )\n",
    "\n",
    "semantic_config = SemanticConfiguration(\n",
    "    name=\"my-semantic-config\",\n",
    "    prioritized_fields=SemanticPrioritizedFields(\n",
    "        content_fields=[SemanticField(field_name=\"message\")]\n",
    "    )\n",
    ")\n",
    "\n",
    "# Create the semantic settings with the configuration\n",
    "semantic_search = SemanticSearch(configurations=[semantic_config])"
   ]
  },
  {
   "cell_type": "markdown",
   "id": "26f7a2b9",
   "metadata": {},
   "source": [
    "## Create Index"
   ]
  },
  {
   "cell_type": "code",
   "execution_count": 15,
   "id": "5a111c6a",
   "metadata": {},
   "outputs": [],
   "source": [
    "## Index manager\n",
    "index_manager = IndexManager(\n",
    "    search_service=ENV_VARIABLES[\"AZURE_SEARCH_SERVICE\"],\n",
    "    search_key=ENV_VARIABLES[\"AZURE_SEARCH_KEY\"]\n",
    ")"
   ]
  },
  {
   "cell_type": "code",
   "execution_count": 16,
   "id": "c1e9dc6a",
   "metadata": {},
   "outputs": [
    {
     "name": "stdout",
     "output_type": "stream",
     "text": [
      "Creating classification-index search index\n",
      " classification-index created\n"
     ]
    },
    {
     "data": {
      "text/plain": [
       "<azure.search.documents.indexes.models._index.SearchIndex at 0x1f30298be50>"
      ]
     },
     "execution_count": 16,
     "metadata": {},
     "output_type": "execute_result"
    }
   ],
   "source": [
    "index_manager.create_index(\n",
    "    index_name=ENV_VARIABLES[\"AZURE_SEARCH_INDEX\"],\n",
    "    fields=fields,\n",
    "    vector_search=vector_search,\n",
    "    semantic_search=semantic_search\n",
    ")"
   ]
  },
  {
   "cell_type": "markdown",
   "id": "dbc6b0c1",
   "metadata": {},
   "source": [
    "## Load data"
   ]
  },
  {
   "cell_type": "code",
   "execution_count": 9,
   "id": "cf9539fd",
   "metadata": {},
   "outputs": [
    {
     "data": {
      "text/html": [
       "<div>\n",
       "<style scoped>\n",
       "    .dataframe tbody tr th:only-of-type {\n",
       "        vertical-align: middle;\n",
       "    }\n",
       "\n",
       "    .dataframe tbody tr th {\n",
       "        vertical-align: top;\n",
       "    }\n",
       "\n",
       "    .dataframe thead th {\n",
       "        text-align: right;\n",
       "    }\n",
       "</style>\n",
       "<table border=\"1\" class=\"dataframe\">\n",
       "  <thead>\n",
       "    <tr style=\"text-align: right;\">\n",
       "      <th></th>\n",
       "      <th>label</th>\n",
       "      <th>message</th>\n",
       "    </tr>\n",
       "  </thead>\n",
       "  <tbody>\n",
       "    <tr>\n",
       "      <th>0</th>\n",
       "      <td>ham</td>\n",
       "      <td>Go until jurong point, crazy.. Available only ...</td>\n",
       "    </tr>\n",
       "    <tr>\n",
       "      <th>1</th>\n",
       "      <td>ham</td>\n",
       "      <td>Ok lar... Joking wif u oni...</td>\n",
       "    </tr>\n",
       "    <tr>\n",
       "      <th>2</th>\n",
       "      <td>spam</td>\n",
       "      <td>Free entry in 2 a wkly comp to win FA Cup fina...</td>\n",
       "    </tr>\n",
       "    <tr>\n",
       "      <th>3</th>\n",
       "      <td>ham</td>\n",
       "      <td>U dun say so early hor... U c already then say...</td>\n",
       "    </tr>\n",
       "    <tr>\n",
       "      <th>4</th>\n",
       "      <td>ham</td>\n",
       "      <td>Nah I don't think he goes to usf, he lives aro...</td>\n",
       "    </tr>\n",
       "  </tbody>\n",
       "</table>\n",
       "</div>"
      ],
      "text/plain": [
       "  label                                            message\n",
       "0   ham  Go until jurong point, crazy.. Available only ...\n",
       "1   ham                      Ok lar... Joking wif u oni...\n",
       "2  spam  Free entry in 2 a wkly comp to win FA Cup fina...\n",
       "3   ham  U dun say so early hor... U c already then say...\n",
       "4   ham  Nah I don't think he goes to usf, he lives aro..."
      ]
     },
     "execution_count": 9,
     "metadata": {},
     "output_type": "execute_result"
    }
   ],
   "source": [
    "df_train = pd.read_csv(TRAIN_DIR / 'train.csv')\n",
    "df_train.head()"
   ]
  },
  {
   "cell_type": "code",
   "execution_count": 18,
   "id": "0016ff5d",
   "metadata": {},
   "outputs": [
    {
     "name": "stderr",
     "output_type": "stream",
     "text": [
      "C:\\Users\\CristianDavidMarquez\\AppData\\Local\\Temp\\ipykernel_20620\\2831061103.py:12: SettingWithCopyWarning: \n",
      "A value is trying to be set on a copy of a slice from a DataFrame.\n",
      "Try using .loc[row_indexer,col_indexer] = value instead\n",
      "\n",
      "See the caveats in the documentation: https://pandas.pydata.org/pandas-docs/stable/user_guide/indexing.html#returning-a-view-versus-a-copy\n",
      "  batch[\"main_vector\"] = embeddings\n",
      "C:\\Users\\CristianDavidMarquez\\AppData\\Local\\Temp\\ipykernel_20620\\2831061103.py:12: SettingWithCopyWarning: \n",
      "A value is trying to be set on a copy of a slice from a DataFrame.\n",
      "Try using .loc[row_indexer,col_indexer] = value instead\n",
      "\n",
      "See the caveats in the documentation: https://pandas.pydata.org/pandas-docs/stable/user_guide/indexing.html#returning-a-view-versus-a-copy\n",
      "  batch[\"main_vector\"] = embeddings\n",
      "C:\\Users\\CristianDavidMarquez\\AppData\\Local\\Temp\\ipykernel_20620\\2831061103.py:12: SettingWithCopyWarning: \n",
      "A value is trying to be set on a copy of a slice from a DataFrame.\n",
      "Try using .loc[row_indexer,col_indexer] = value instead\n",
      "\n",
      "See the caveats in the documentation: https://pandas.pydata.org/pandas-docs/stable/user_guide/indexing.html#returning-a-view-versus-a-copy\n",
      "  batch[\"main_vector\"] = embeddings\n",
      "C:\\Users\\CristianDavidMarquez\\AppData\\Local\\Temp\\ipykernel_20620\\2831061103.py:12: SettingWithCopyWarning: \n",
      "A value is trying to be set on a copy of a slice from a DataFrame.\n",
      "Try using .loc[row_indexer,col_indexer] = value instead\n",
      "\n",
      "See the caveats in the documentation: https://pandas.pydata.org/pandas-docs/stable/user_guide/indexing.html#returning-a-view-versus-a-copy\n",
      "  batch[\"main_vector\"] = embeddings\n",
      "C:\\Users\\CristianDavidMarquez\\AppData\\Local\\Temp\\ipykernel_20620\\2831061103.py:12: SettingWithCopyWarning: \n",
      "A value is trying to be set on a copy of a slice from a DataFrame.\n",
      "Try using .loc[row_indexer,col_indexer] = value instead\n",
      "\n",
      "See the caveats in the documentation: https://pandas.pydata.org/pandas-docs/stable/user_guide/indexing.html#returning-a-view-versus-a-copy\n",
      "  batch[\"main_vector\"] = embeddings\n",
      "C:\\Users\\CristianDavidMarquez\\AppData\\Local\\Temp\\ipykernel_20620\\2831061103.py:12: SettingWithCopyWarning: \n",
      "A value is trying to be set on a copy of a slice from a DataFrame.\n",
      "Try using .loc[row_indexer,col_indexer] = value instead\n",
      "\n",
      "See the caveats in the documentation: https://pandas.pydata.org/pandas-docs/stable/user_guide/indexing.html#returning-a-view-versus-a-copy\n",
      "  batch[\"main_vector\"] = embeddings\n"
     ]
    }
   ],
   "source": [
    "embedding_model = OpenAIEmbeddings(\n",
    "        openai_api_key=ENV_VARIABLES[\"OPENAI_KEY\"],\n",
    "        model=\"text-embedding-3-small\",\n",
    "    )\n",
    "    \n",
    "batch_size = 1000\n",
    "df_vector = pd.DataFrame()\n",
    "for i in range(0, len(df_train), batch_size):\n",
    "    batch = df_train.iloc[i:i+batch_size]\n",
    "    texts = batch['message'].tolist()\n",
    "    embeddings = embedding_model.embed_documents(texts)\n",
    "    batch[\"main_vector\"] = embeddings\n",
    "    df_vector = pd.concat([df_vector, batch], ignore_index=True)"
   ]
  },
  {
   "cell_type": "code",
   "execution_count": 19,
   "id": "781b2926",
   "metadata": {},
   "outputs": [],
   "source": [
    "records = df_vector.to_dict(orient='records')\n",
    "for d in records:\n",
    "    d['id'] = create_id()\n"
   ]
  },
  {
   "cell_type": "code",
   "execution_count": 20,
   "id": "9d7e0ef4",
   "metadata": {},
   "outputs": [
    {
     "name": "stdout",
     "output_type": "stream",
     "text": [
      "Too many documents to upload, split into smaller batches\n",
      "****************\n",
      "Uploading documents 0 to 1000\n",
      "\tIndexed 1000 sections, 1000 succeeded\n",
      "****************\n",
      "Uploading documents 1000 to 2000\n",
      "\tIndexed 1000 sections, 1000 succeeded\n",
      "****************\n",
      "Uploading documents 2000 to 3000\n",
      "\tIndexed 1000 sections, 1000 succeeded\n",
      "****************\n",
      "Uploading documents 3000 to 4000\n",
      "\tIndexed 1000 sections, 1000 succeeded\n",
      "****************\n",
      "Uploading documents 4000 to 5000\n",
      "\tIndexed 1000 sections, 1000 succeeded\n",
      "****************\n",
      "Uploading documents 5000 to 6000\n",
      "\tIndexed 272 sections, 272 succeeded\n"
     ]
    }
   ],
   "source": [
    "## index data\n",
    "results = index_manager.upload_documents(\n",
    "    index_name=ENV_VARIABLES[\"AZURE_SEARCH_INDEX\"],\n",
    "    documents=records,\n",
    "    batch_size=1000\n",
    ")"
   ]
  },
  {
   "cell_type": "code",
   "execution_count": null,
   "id": "dcda67d7",
   "metadata": {},
   "outputs": [],
   "source": []
  },
  {
   "cell_type": "code",
   "execution_count": null,
   "id": "70339d70",
   "metadata": {},
   "outputs": [],
   "source": []
  }
 ],
 "metadata": {
  "kernelspec": {
   "display_name": "Python 3 (ipykernel)",
   "language": "python",
   "name": "python3"
  },
  "language_info": {
   "codemirror_mode": {
    "name": "ipython",
    "version": 3
   },
   "file_extension": ".py",
   "mimetype": "text/x-python",
   "name": "python",
   "nbconvert_exporter": "python",
   "pygments_lexer": "ipython3",
   "version": "3.11.9"
  }
 },
 "nbformat": 4,
 "nbformat_minor": 5
}
